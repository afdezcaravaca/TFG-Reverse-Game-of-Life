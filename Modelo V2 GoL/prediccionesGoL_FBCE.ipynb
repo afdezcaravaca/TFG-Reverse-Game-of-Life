{
 "cells": [
  {
   "cell_type": "markdown",
   "id": "073bca04",
   "metadata": {},
   "source": [
    "### <ins> Predicciones del Modelo V1: CNN con Binary Cross-Entropy loss function </ins>\n",
    "\n",
    "**1. Importar librerías, definimos las funciones de as métricas y modelos:**"
   ]
  },
  {
   "cell_type": "code",
   "execution_count": 1,
   "id": "4db40540",
   "metadata": {},
   "outputs": [],
   "source": [
    "import numpy as np \n",
    "import matplotlib.pyplot as plt\n",
    "import pandas as pd\n",
    "import os\n",
    "import random\n",
    "import tensorflow as tf\n",
    "from keras.models import load_model\n",
    "from keras import backend as K\n",
    "\n",
    "\n",
    "# 1. Define la semilla\n",
    "SEED = 42  # Según ChatGPT es la mejor\n",
    " \n",
    "# 2. Python built-in random\n",
    "random.seed(SEED)\n",
    "\n",
    "# 3. NumPy\n",
    "np.random.seed(SEED)\n",
    "\n",
    "# 4. TensorFlow\n",
    "tf.random.set_seed(SEED)\n",
    "\n",
    "# (Opcional) Para TensorFlow más determinismo en operaciones GPU:\n",
    "os.environ['TF_DETERMINISTIC_OPS'] = '1'\n",
    "\n",
    "\n",
    "def recall(y_true, y_pred):\n",
    "    y_pred_pos = K.round(K.clip(y_pred, 0, 1))\n",
    "    tp = K.sum(y_true * y_pred_pos)\n",
    "    possible_positives = K.sum(y_true)\n",
    "    return tp / (possible_positives + K.epsilon())\n",
    "\n",
    "def precision(y_true, y_pred):\n",
    "    y_pred_pos = K.round(K.clip(y_pred, 0, 1))\n",
    "    tp = K.sum(y_true * y_pred_pos)\n",
    "    predicted_positives = K.sum(y_pred_pos)\n",
    "    return tp / (predicted_positives + K.epsilon())\n",
    "\n",
    "def f1_score(y_true, y_pred):\n",
    "    prec = precision(y_true, y_pred)\n",
    "    rec = recall(y_true, y_pred)\n",
    "    return 2 * (prec * rec) / (prec + rec + K.epsilon())\n",
    "\n",
    "def specificity(y_true, y_pred):\n",
    "    y_pred_neg = 1 - K.round(K.clip(y_pred, 0, 1))\n",
    "    y_true_neg = 1 - y_true\n",
    "    tn = K.sum(y_true_neg * y_pred_neg)\n",
    "    possible_negatives = K.sum(y_true_neg)\n",
    "    return tn / (possible_negatives + K.epsilon())\n",
    "\n",
    "def hamming_loss(y_true, y_pred):\n",
    "    mismatches = K.not_equal(K.round(K.clip(y_pred, 0, 1)), y_true)\n",
    "    return K.mean(K.cast(mismatches, K.floatx()))\n"
   ]
  },
  {
   "cell_type": "code",
   "execution_count": 3,
   "id": "e235cbac",
   "metadata": {},
   "outputs": [
    {
     "name": "stdout",
     "output_type": "stream",
     "text": [
      "['../../Datos\\\\test.xlsx', '../../Datos\\\\train.xlsx']\n"
     ]
    }
   ],
   "source": [
    "modelos_delta = {}\n",
    "\n",
    "# Iteramos de 1 a 2 porque solo tenemos un modelo delta entrenado\n",
    "for i in range(1, 2):\n",
    "\n",
    "    # Formateamos el string del path según el valor de i\n",
    "    path = f\"../../Modelo GoL/Modelos/modelo_delta_{i}_FBCE\"\n",
    "\n",
    "    # Cargamos los modelos y lo almacenamos en el diccionario usando una clave dinámica\n",
    "    modelos_delta[f\"modelo_delta_{i}_FBCE\"] = load_model(\n",
    "        path, \n",
    "        compile=False, \n",
    "        custom_objects={\n",
    "            'accuracy': tf.keras.metrics.BinaryAccuracy(name='accuracy'),\n",
    "            'recall': recall,\n",
    "            'precision': precision,\n",
    "            'f1_score': f1_score,\n",
    "            'specificity': specificity,\n",
    "            'hamming_loss': hamming_loss\n",
    "        }\n",
    "    )\n",
    "\n",
    "# Buscamos los paths a todos los excels relevantes:\n",
    "path = \"../../Datos\"\n",
    "datos = []\n",
    "for dirnames,_,filenames in os.walk(path):\n",
    "    for filename in filenames:\n",
    "        if filename.endswith('.xlsx'):\n",
    "            datos.append(os.path.join(dirnames,filename))\n",
    "\n",
    "# Cargamos los datos del test:\n",
    "\n",
    "test = pd.read_excel((datos[0]), sheet_name = 'test', header = 0)\n",
    "stops = [f'stop.{i}' for i in range(1,401)]\n",
    "\n",
    "print(datos)"
   ]
  },
  {
   "cell_type": "markdown",
   "id": "1297e134",
   "metadata": {},
   "source": [
    "2. **Jugamos al GoL con las predicciones:**"
   ]
  },
  {
   "cell_type": "code",
   "execution_count": 4,
   "id": "cb456b5d",
   "metadata": {},
   "outputs": [
    {
     "name": "stdout",
     "output_type": "stream",
     "text": [
      "312/312 [==============================] - 29s 72ms/step\n"
     ]
    }
   ],
   "source": [
    "archivo_excel = \"predicciones_FBCE.xlsx\"\n",
    "with pd.ExcelWriter(archivo_excel, engine='openpyxl') as writer:\n",
    "    for delta in range(1, 2):\n",
    "        # Llamo al modelo asociado a esta delta:\n",
    "        key = f\"modelo_delta_{delta}_FBCE\"\n",
    "        modelo_i = modelos_delta[key]\n",
    "        \n",
    "        # Filto los datos del test asociados a esta delta:\n",
    "        delta_i = test[test['delta'] == delta]\n",
    "        finales_i = np.reshape(delta_i[stops].values, (-1,20,20,1), order='F')\n",
    "\n",
    "        # Hacemos las prediciones y las organizo como un vector fila.\n",
    "        predicciones_finales, predicciones_iniciales = modelo_i.predict(finales_i)   \n",
    "        \n",
    "        pred_init_flat = predicciones_iniciales.reshape(len(predicciones_iniciales), -1).round(0).astype('uint8')\n",
    "        pred_final_flat = predicciones_finales.reshape(len(predicciones_finales), -1).round(0).astype('uint8')\n",
    "\n",
    "        resultados = np.concatenate([pred_final_flat, pred_init_flat], axis=1) # Final + Inicial\n",
    "\n",
    "        columnas = [f\"stop_{i}\" for i in range(400)] + [f\"start_{i}\" for i in range(400)] \n",
    "\n",
    "        df_predicciones = pd.DataFrame(resultados, columns=columnas)\n",
    "        \n",
    "        # # Define el nombre de la hoja. En este ejemplo se usa \"Iteracion_1\", \"Iteracion_2\", etc.\n",
    "        hoja = f\"delta_{delta}\"\n",
    "        \n",
    "        # # Guarda el DataFrame en la hoja actual del archivo Excel\n",
    "        df_predicciones.to_excel(writer, sheet_name=hoja, index=False)"
   ]
  }
 ],
 "metadata": {
  "kernelspec": {
   "display_name": "tfg_3.9",
   "language": "python",
   "name": "tfg_3.9"
  },
  "language_info": {
   "codemirror_mode": {
    "name": "ipython",
    "version": 3
   },
   "file_extension": ".py",
   "mimetype": "text/x-python",
   "name": "python",
   "nbconvert_exporter": "python",
   "pygments_lexer": "ipython3",
   "version": "3.9.21"
  }
 },
 "nbformat": 4,
 "nbformat_minor": 5
}
