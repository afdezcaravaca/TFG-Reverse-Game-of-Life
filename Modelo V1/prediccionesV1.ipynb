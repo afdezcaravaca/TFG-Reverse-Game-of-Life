{
 "cells": [
  {
   "cell_type": "markdown",
   "id": "073bca04",
   "metadata": {},
   "source": [
    "### <ins> Predicciones del Modelo V1: CNN con Binary Cross-Entropy loss function </ins>\n",
    "\n",
    "**1. Importar librerías, definimos las funciones de as métricas y modelos:**"
   ]
  },
  {
   "cell_type": "code",
   "execution_count": 6,
   "id": "4db40540",
   "metadata": {},
   "outputs": [],
   "source": [
    "import numpy as np \n",
    "import matplotlib.pyplot as plt\n",
    "import pandas as pd\n",
    "import os\n",
    "import random\n",
    "import tensorflow as tf\n",
    "from keras.models import load_model\n",
    "from keras import backend as K\n",
    "\n",
    "\n",
    "# 1. Define la semilla\n",
    "SEED = 42  # Según ChatGPT es la mejor\n",
    " \n",
    "# 2. Python built-in random\n",
    "random.seed(SEED)\n",
    "\n",
    "# 3. NumPy\n",
    "np.random.seed(SEED)\n",
    "\n",
    "# 4. TensorFlow\n",
    "tf.random.set_seed(SEED)\n",
    "\n",
    "# (Opcional) Para TensorFlow más determinismo en operaciones GPU:\n",
    "os.environ['TF_DETERMINISTIC_OPS'] = '1'\n",
    "\n",
    "\n",
    "def recall_m(y_true, y_pred):\n",
    "    y_pred_pos = K.round(K.clip(y_pred, 0, 1))\n",
    "    tp = K.sum(y_true * y_pred_pos)\n",
    "    possible_positives = K.sum(y_true)\n",
    "    return tp / (possible_positives + K.epsilon())\n",
    "\n",
    "def precision_m(y_true, y_pred):\n",
    "    y_pred_pos = K.round(K.clip(y_pred, 0, 1))\n",
    "    tp = K.sum(y_true * y_pred_pos)\n",
    "    predicted_positives = K.sum(y_pred_pos)\n",
    "    return tp / (predicted_positives + K.epsilon())\n",
    "\n",
    "def f1_score_m(y_true, y_pred):\n",
    "    precision = precision_m(y_true, y_pred)\n",
    "    recall = recall_m(y_true, y_pred)\n",
    "    return 2 * (precision * recall) / (precision + recall + K.epsilon())\n",
    "\n",
    "def specificity_m(y_true, y_pred):\n",
    "    y_pred_neg = 1 - K.round(K.clip(y_pred, 0, 1))\n",
    "    y_true_neg = 1 - y_true\n",
    "    tn = K.sum(y_true_neg * y_pred_neg)\n",
    "    possible_negatives = K.sum(y_true_neg)\n",
    "    return tn / (possible_negatives + K.epsilon())\n",
    "\n",
    "def hamming_loss_m(y_true, y_pred):\n",
    "    # Fracción de etiquetas incorrectas\n",
    "    mismatches = K.not_equal(K.round(K.clip(y_pred, 0, 1)), y_true)\n",
    "    return K.mean(K.cast(mismatches, K.floatx()))\n"
   ]
  },
  {
   "cell_type": "code",
   "execution_count": 7,
   "id": "e235cbac",
   "metadata": {},
   "outputs": [
    {
     "name": "stdout",
     "output_type": "stream",
     "text": [
      "['../Datos\\\\test.xlsx', '../Datos\\\\train.xlsx']\n"
     ]
    }
   ],
   "source": [
    "modelos_delta = {}\n",
    "\n",
    "# Iteramos de 1 a 5\n",
    "for i in range(1, 6):\n",
    "\n",
    "    # Formateamos el string del path según el valor de i\n",
    "    path = f\"../Modelo V1/Modelos/modelo_delta{i}\"\n",
    "\n",
    "    # Cargamos los modelos y lo almacenamos en el diccionario usando una clave dinámica\n",
    "    modelos_delta[f\"modelo_delta{i}\"] = load_model(\n",
    "        path, \n",
    "        compile=False, \n",
    "        custom_objects={\n",
    "            'accuracy': tf.keras.metrics.BinaryAccuracy(name='accuracy'),\n",
    "            'recall_m': recall_m,\n",
    "            'precision_m': precision_m,\n",
    "            'f1_score_m': f1_score_m,\n",
    "            'specificity_m': specificity_m,\n",
    "            'hamming_loss_m': hamming_loss_m\n",
    "        }\n",
    "    )\n",
    "\n",
    "# Buscamos los paths a todos los excels relevantes:\n",
    "path = \"../Datos\"\n",
    "datos = []\n",
    "for dirnames,_,filenames in os.walk(path):\n",
    "    for filename in filenames:\n",
    "        if filename.endswith('.xlsx'):\n",
    "            datos.append(os.path.join(dirnames,filename))\n",
    "\n",
    "# Cargamos los datos del test:\n",
    "\n",
    "test = pd.read_excel((datos[0]), sheet_name = 'test', header = 0)\n",
    "stops = [f'stop.{i}' for i in range(1,401)]\n",
    "\n",
    "print(datos)"
   ]
  },
  {
   "cell_type": "markdown",
   "id": "1297e134",
   "metadata": {},
   "source": [
    "2. **Jugamos al GoL con las predicciones:**"
   ]
  },
  {
   "cell_type": "code",
   "execution_count": 8,
   "id": "cb456b5d",
   "metadata": {},
   "outputs": [
    {
     "name": "stdout",
     "output_type": "stream",
     "text": [
      "312/312 [==============================] - 32s 76ms/step\n",
      "315/315 [==============================] - 23s 74ms/step\n",
      "313/313 [==============================] - 23s 73ms/step\n",
      "307/307 [==============================] - 23s 75ms/step\n",
      "318/318 [==============================] - 23s 73ms/step\n"
     ]
    }
   ],
   "source": [
    "archivo_excel = \"predicciones.xlsx\"\n",
    "with pd.ExcelWriter(archivo_excel, engine='openpyxl') as writer:\n",
    "    for delta in range(1, 6):\n",
    "        # Llamo al modelo asociado a esta delta:\n",
    "        key = f\"modelo_delta{delta}\"\n",
    "        modelo_i = modelos_delta[key]\n",
    "        \n",
    "        # Filto los datos del test asociados a esta delta:\n",
    "        delta_i = test[test['delta'] == delta]\n",
    "        finales_i = np.reshape(delta_i[stops].values, (-1,20,20,1), order='F')\n",
    "\n",
    "        # Hacemos las prediciones y las organizo como un vector fila.\n",
    "        predicciones = modelo_i.predict(finales_i).reshape(-1,400).round(0).astype('uint8')  #  CREO QUE LAS ESTOY GUARDADO CON CRITERIO ROW-WISE! \n",
    "        \n",
    "        df_predicciones = pd.DataFrame(predicciones)\n",
    "        \n",
    "        # # Define el nombre de la hoja. En este ejemplo se usa \"Iteracion_1\", \"Iteracion_2\", etc.\n",
    "        hoja = f\"delta_{delta}\"\n",
    "        \n",
    "        # # Guarda el DataFrame en la hoja actual del archivo Excel\n",
    "        df_predicciones.to_excel(writer, sheet_name=hoja, index=False)"
   ]
  }
 ],
 "metadata": {
  "kernelspec": {
   "display_name": "tfg_3.9",
   "language": "python",
   "name": "tfg_3.9"
  },
  "language_info": {
   "codemirror_mode": {
    "name": "ipython",
    "version": 3
   },
   "file_extension": ".py",
   "mimetype": "text/x-python",
   "name": "python",
   "nbconvert_exporter": "python",
   "pygments_lexer": "ipython3",
   "version": "3.9.21"
  }
 },
 "nbformat": 4,
 "nbformat_minor": 5
}
