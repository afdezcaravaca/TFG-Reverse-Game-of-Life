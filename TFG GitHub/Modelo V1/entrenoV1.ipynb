{
 "cells": [
  {
   "attachments": {
    "image.png": {
     "image/png": "[encoded data removed]"
    }
   },
   "cell_type": "markdown",
   "metadata": {},
   "source": [
    "### Modelo V1: CNN usando Binary Cross-Entropy:\n",
    "\n",
    "Este modelo es una red neuronal convolucional (CNN) que utiliza la función de loss Binary Cross-Entropy. Aquí, como usamos esta función loss, el modelo da el mismo peso a errores en la predicción de las dos clases:\n",
    "\n",
    "- Viva $\\equiv$ 1\n",
    "- Muerta $\\equiv$ 0 \n",
    "\n",
    "La función de loss es de la forma:\n",
    "\n",
    "![image.png](attachment:image.png)\n",
    "\n",
    "1. **Setup:** Importamos bibliotecas y obtenemos los caminos a los directorios con los datos ofrecidos por el propio Kaggle.\n",
    "\n",
    "**Bibliotecas usadas:**\n",
    "- os: para movernos por el sistema.\n",
    "- pandas: lectura de archivos.\n",
    "- matplotlib.pyplot: graficación de los resultados.\n",
    "- keras: contiene las funciones necesarias para crear un modelo.\n",
    "- numpy: para operaciones matemáticas."
   ]
  },
  {
   "cell_type": "code",
   "execution_count": null,
   "metadata": {},
   "outputs": [],
   "source": [
    "import os\n",
    "import pandas as pd\n",
    "import numpy as np\n",
    "import matplotlib.pyplot as plt\n",
    "import keras as ks\n",
    "import random\n",
    "import tensorflow as tf\n",
    "from keras.models import Sequential\n",
    "from keras.layers import Dense, Dropout, Conv2D, MaxPool2D, Conv2DTranspose, BatchNormalization\n",
    "from keras.callbacks import EarlyStopping, ModelCheckpoint\n",
    "from keras import backend as K\n",
    "\n",
    "# 1. Define la semilla\n",
    "SEED = 42  # Según ChatGPT es la mejor\n",
    " \n",
    "# 2. Python built-in random\n",
    "random.seed(SEED)\n",
    "\n",
    "# 3. NumPy\n",
    "np.random.seed(SEED)\n",
    "\n",
    "# 4. TensorFlow\n",
    "tf.random.set_seed(SEED)\n",
    "\n",
    "# (Opcional) Para TensorFlow más determinismo en operaciones GPU:\n",
    "os.environ['TF_DETERMINISTIC_OPS'] = '1'\n",
    "\n",
    "path = \"../Datos\"\n",
    "datos = []\n",
    "for dirnames,_,filenames in os.walk(path):\n",
    "    for filename in filenames:\n",
    "        if filename.endswith('.xlsx'):\n",
    "            datos.append(os.path.join(dirnames,filename))\n",
    "\n",
    "print(datos)"
   ]
  },
  {
   "cell_type": "markdown",
   "metadata": {},
   "source": [
    "2. **Creación del modelo:** \n",
    "\n",
    "Definimos primero las métricas y luego el modelo:"
   ]
  },
  {
   "cell_type": "code",
   "execution_count": null,
   "metadata": {},
   "outputs": [],
   "source": [
    "def recall(y_true, y_pred):\n",
    "    y_pred_pos = K.round(K.clip(y_pred, 0, 1))\n",
    "    tp = K.sum(y_true * y_pred_pos)\n",
    "    possible_positives = K.sum(y_true)\n",
    "    return tp / (possible_positives + K.epsilon())\n",
    "\n",
    "def precision(y_true, y_pred):\n",
    "    y_pred_pos = K.round(K.clip(y_pred, 0, 1))\n",
    "    tp = K.sum(y_true * y_pred_pos)\n",
    "    predicted_positives = K.sum(y_pred_pos)\n",
    "    return tp / (predicted_positives + K.epsilon())\n",
    "\n",
    "def f1_score(y_true, y_pred):\n",
    "    precision = precision(y_true, y_pred)\n",
    "    recall = recall(y_true, y_pred)\n",
    "    return 2 * (precision * recall) / (precision + recall + K.epsilon())\n",
    "\n",
    "def specificity(y_true, y_pred):\n",
    "    y_pred_neg = 1 - K.round(K.clip(y_pred, 0, 1))\n",
    "    y_true_neg = 1 - y_true\n",
    "    tn = K.sum(y_true_neg * y_pred_neg)\n",
    "    possible_negatives = K.sum(y_true_neg)\n",
    "    return tn / (possible_negatives + K.epsilon())\n",
    "\n",
    "def hamming_loss(y_true, y_pred):\n",
    "    # Fracción de etiquetas incorrectas\n",
    "    mismatches = K.not_equal(K.round(K.clip(y_pred, 0, 1)), y_true)\n",
    "    return K.mean(K.cast(mismatches, K.floatx()))"
   ]
  },
  {
   "cell_type": "code",
   "execution_count": null,
   "metadata": {},
   "outputs": [],
   "source": [
    "\n",
    "def create_model(n_hidden_convs=2, n_hidden_filters=128, kernel_size=5):\n",
    "    nn = Sequential()\n",
    "    nn.add(Conv2D(n_hidden_filters, kernel_size,\n",
    "                  padding='same', activation='relu',\n",
    "                  input_shape=(20, 20, 1)))\n",
    "    nn.add(BatchNormalization())\n",
    "    for _ in range(n_hidden_convs):\n",
    "        nn.add(Conv2D(n_hidden_filters, kernel_size,\n",
    "                      padding='same', activation='relu'))\n",
    "        nn.add(BatchNormalization())\n",
    "    nn.add(Conv2D(1, kernel_size, padding='same', activation='sigmoid'))\n",
    "\n",
    "    nn.compile(\n",
    "        optimizer='adam',\n",
    "        loss='binary_crossentropy',\n",
    "        metrics=[\n",
    "            tf.keras.metrics.BinaryAccuracy(name='accuracy'),\n",
    "            recall,\n",
    "            precision,\n",
    "            f1_score,\n",
    "            specificity,\n",
    "            hamming_loss\n",
    "        ]\n",
    "    )\n",
    "    return nn\n"
   ]
  },
  {
   "cell_type": "markdown",
   "metadata": {},
   "source": [
    "3. **Cargamos los datos:** Recordemos que los datos del Kaggle están ordenados en formato column-wise order. (Explicado en la tablet)"
   ]
  },
  {
   "cell_type": "code",
   "execution_count": null,
   "metadata": {},
   "outputs": [],
   "source": [
    "# Cargo los datos:\n",
    "train = pd.read_excel(datos[1], sheet_name = 'train', header = 0)\n",
    "\n",
    "# Creo una lista con los nombres de los headers de los tableros:\n",
    "starts = [f'start.{i}' for i in range(1,401)]\n",
    "stops = [f'stop.{i}' for i in range(1,401)]"
   ]
  },
  {
   "cell_type": "markdown",
   "metadata": {},
   "source": [
    "4. **Entreamiento del modelo:**"
   ]
  },
  {
   "cell_type": "code",
   "execution_count": null,
   "metadata": {},
   "outputs": [],
   "source": [
    "# Entrenamiento de 5 modelos, uno para cada delta:\n",
    "\n",
    "models = [] # Almacén de modelos (parámetros optimizados)\n",
    "historial = [] # Almacén de historiales (loss, accurracy)\n",
    "\n",
    "for i in range(1,6):\n",
    "    # Obtenemos los datos para cada delta:\n",
    "    delta_i = train[train['delta'] == i]\n",
    "    finales_i = np.reshape(delta_i[stops].values, (-1,20,20,1), order='F')\n",
    "    iniciales_i = np.reshape(delta_i[starts].values, (-1,20,20,1), order='F')\n",
    "    \n",
    "    # Cargar test:\n",
    "\n",
    "\n",
    "    # Entrenamos al modelo\n",
    "    model = create_model(n_hidden_convs=6, n_hidden_filters=256)\n",
    "    es = EarlyStopping(monitor='loss', patience=9, min_delta=0.001)\n",
    "    history = model.fit(finales_i, iniciales_i, epochs=50, verbose=1, callbacks=[es])\n",
    "    models.append(model)\n",
    "    historial.append(history)\n"
   ]
  },
  {
   "cell_type": "markdown",
   "metadata": {},
   "source": [
    "**5. Guardamos todo para reutilizarlo cuando queramos:** De esta forma no tenemos que ejecutar todo el notebook cada vez."
   ]
  },
  {
   "cell_type": "code",
   "execution_count": null,
   "metadata": {},
   "outputs": [],
   "source": [
    "# Convertimos el diccionario de historial en un DataFrame:\n",
    "df_history1 = pd.DataFrame(historial[0].history)\n",
    "df_history2= pd.DataFrame(historial[1].history)\n",
    "df_history3 = pd.DataFrame(historial[2].history)\n",
    "df_history4 = pd.DataFrame(historial[3].history)\n",
    "df_history5 = pd.DataFrame(historial[4].history)\n",
    "\n",
    "# Guardamos el DataFrame en un archivo Excel:\n",
    "df_history1.to_excel('../Modelo V1/Historiales/historial_delta1.xlsx', index=False)\n",
    "df_history2.to_excel('../Modelo V1/Historiales/historial_delta2.xlsx', index=False)\n",
    "df_history3.to_excel('../Modelo V1/Historiales/historial_delta3.xlsx', index=False)\n",
    "df_history4.to_excel('../Modelo V1/Historiales/historial_delta4.xlsx', index=False)\n",
    "df_history5.to_excel('../Modelo V1/Historiales/historial_delta5.xlsx', index=False)\n",
    "\n",
    "# Guardamos los modelos\n",
    "for i, model in enumerate(models):\n",
    "    model.save(f\"../Modelo V1/Modelos/modelo_delta_{i+1}\", save_format='tf')\n"
   ]
  }
 ],
 "metadata": {
  "kernelspec": {
   "display_name": "tfg_3.9",
   "language": "python",
   "name": "tfg_3.9"
  },
  "language_info": {
   "codemirror_mode": {
    "name": "ipython",
    "version": 3
   },
   "file_extension": ".py",
   "mimetype": "text/x-python",
   "name": "python",
   "nbconvert_exporter": "python",
   "pygments_lexer": "ipython3",
   "version": "3.9.21"
  }
 },
 "nbformat": 4,
 "nbformat_minor": 2
}
