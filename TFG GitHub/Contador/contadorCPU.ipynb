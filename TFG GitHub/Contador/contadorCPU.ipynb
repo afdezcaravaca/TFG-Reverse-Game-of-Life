{
 "cells": [
  {
   "cell_type": "markdown",
   "id": "486a493a",
   "metadata": {},
   "source": [
    "### <ins>Código para crear un contador de tableros que dan lugar a una configuración dada.<ins>\n",
    "\n",
    "Voy a crear un contador de tableros iniciales que dan lugar a un tablero final dado tras un número de generaciones delta. El código está escrito por defecto para tableros 3x3 que lleven, en un paso, a la configuración final:\n",
    "<pre>\n",
    "                                                                                    0 0 0\n",
    "                                                                                    0 1 0\n",
    "                                                                                    0 0 0\n",
    "</pre>\n",
    "\n",
    "Sin embargo, el código está generalizado para cualquier configuración final y cualquier tamaño de tablero.\n",
    "\n",
    "Este código se ejecuta en la CPU.\n",
    "\n",
    "Aquí la biblioteca que será de gran ayuda es: "
   ]
  },
  {
   "cell_type": "code",
   "execution_count": 8,
   "id": "a0fb7a9a",
   "metadata": {},
   "outputs": [],
   "source": [
    "import itertools\n",
    "import numpy as np"
   ]
  },
  {
   "cell_type": "markdown",
   "id": "f7d497cd",
   "metadata": {},
   "source": [
    "La librería itertools es un módulo de la biblioteca estándar de Python que proporciona funciones para crear y manipular iteradores de manera eficiente. Estas funciones están pensadas para resolver patrones comunes de iteración, combinatoria y permutaciones de datos. Entre sus funcionalidades destacadas se encuentran:\n",
    "\n",
    "- **Permutaciones (itertools.permutations):** Genera todas las permutaciones posibles de un iterable (por ejemplo, todas las formas de ordenar una lista).\n",
    "\n",
    "- **Combinaciones(itertools.combinations / combinations_with_replacement):** Genera combinaciones de elementos de un iterable, ya sea sin reemplazo o con reemplazo.\n",
    "\n",
    "- **Producto cartesiano (itertools.product):** Crea el producto cartesiano de uno o varios iterables, lo cual es útil para recorrer todas las combinaciones posibles de valores. (Esta es la que nos interesa)\n",
    "\n",
    "- **Herramientas de conteo y agrupación (chain, groupby, etc.):** Permiten encadenar iteradores o agruparlos bajo ciertas condiciones.\n",
    "\n",
    "Un aspecto importante de itertools es que la mayoría de sus funciones devuelven iteradores, que consumen menos memoria que las listas y funcionan bajo demanda (lazy evaluation). Esto hace que sea muy útil para recorrer grandes cantidades de datos o combinaciones sin necesitar almacenar todo en memoria simultáneamente.\n",
    "\n",
    "\n",
    "### 1. Función para generar tableros:"
   ]
  },
  {
   "cell_type": "code",
   "execution_count": 9,
   "id": "f24b0f8b",
   "metadata": {},
   "outputs": [],
   "source": [
    "def generar_tableros(size=(3,3)):\n",
    "    \"\"\"\n",
    "    Genera todos los tableros posibles de tamaño size.\n",
    "\n",
    "    Inputs:\n",
    "\n",
    "        size = (int,int):  dimensiones de los tableros atendiendo al número de (filas, columnas). Por defecto: (3,3)\n",
    "\n",
    "    Outputs:\n",
    "    \n",
    "        tableros (iterador): configuraciones de todos los tableros iniciales. /!\\ Solo se puede llamar una vez, a no ser que se convierta en lista, aunque es más eficiente en memoria como iterador.\n",
    "\n",
    "    \n",
    "    Ejemplo:\n",
    "\n",
    "    size = (3,3) ---> 512 tableros (2^(3*3) = 512)\n",
    "\n",
    "    \"\"\"\n",
    "\n",
    "    r, c = size\n",
    "\n",
    "    tableros = itertools.product([0,1], repeat= r*c)\n",
    "    \n",
    "    return tableros"
   ]
  },
  {
   "cell_type": "markdown",
   "id": "561c18df",
   "metadata": {},
   "source": [
    "### 2. Función para contar células vivas entorno a una célula:"
   ]
  },
  {
   "cell_type": "code",
   "execution_count": 10,
   "id": "08f57710",
   "metadata": {},
   "outputs": [],
   "source": [
    "def contador_vecinas_vivas(tablero_inicial, r, c, size=(3,3)):\n",
    "    \n",
    "    \"\"\" \n",
    "    Cuenta el número de células vecinas vivas para la célula (r,c) de un tablero dado.\n",
    "\n",
    "    Inputs:\n",
    "\n",
    "        tablero_inicial (2d-nparray): configuración del tablero inicial.\n",
    "        r (int): fila de la célula a analizar.\n",
    "        c (int): columna de la célula a analizar.\n",
    "        size (int,int):  dimensiones de los tableros atendiendo al número de (filas, columnas). Por defecto: (3,3)\n",
    "\n",
    "    Output:\n",
    "        vivas (int): número de células vecinas vivas.\n",
    "        \n",
    "    \"\"\"\n",
    "    max_r, max_c = size\n",
    "    vivas = 0\n",
    "    for dr in [-1,0,1]:     # dr: desplazamientos en las filas (-1: mov arriba; 0: no mov; 1: mov abajo)\n",
    "        for dc in [-1,0,1]: # dc: desplazmientos en columnas (-1: mov izq; 0: no mov; 1: mov dcha)\n",
    "            \n",
    "            if dr == 0 and dc == 0: # Estariamos sobre la célula (r,c)\n",
    "                continue\n",
    "            nr, nc = r + dr, c + dc\n",
    "\n",
    "            if 0 <= nr < max_r and 0 <= nc < max_c: # Nos aseguramos que nos encontremos en el tablero\n",
    "                vivas += tablero_inicial[nr][nc]# Como tablero está formado por 0 y 1, solo suma cuando 1 (viva)\n",
    "    \n",
    "    return vivas\n",
    "        "
   ]
  },
  {
   "cell_type": "markdown",
   "id": "4c63bbef",
   "metadata": {},
   "source": [
    "### 3. Función del juego de Conway:"
   ]
  },
  {
   "cell_type": "code",
   "execution_count": 11,
   "id": "3b91397a",
   "metadata": {},
   "outputs": [],
   "source": [
    "def game_of_life(tablero_inicial, size=(3,3), delta=1):\n",
    "\n",
    "    \"\"\" \n",
    "    Función para ejecutar el Juego de Conway sobre un tablero inicial, de tamaño size, delta generaciones.\n",
    "\n",
    "    Inputs:\n",
    "\n",
    "        tablero_inicial (2d-nparray): matriz de la configuración del tablero inicial.\n",
    "        size (int,int):  dimensiones de los tableros atendiendo al número de (filas, columnas). Por defecto: (3,3)\n",
    "        delta (int): número de pasos entre el tablero inicial y final. (Nº de generaciones)\n",
    "    \n",
    "    Outputs:\n",
    "\n",
    "        tablero_GoL (2d-nparray): matriz de la configuración del tablero final. \n",
    "        \n",
    "    \"\"\"\n",
    "\n",
    "    max_r, max_c = size\n",
    "\n",
    "    next_generation = np.zeros(size)\n",
    "    tablero = tablero_inicial\n",
    "\n",
    "    for pasos in range(delta): # Repetimos tantas generaciones como se han indicado:\n",
    "\n",
    "        for r in range(max_r):  # Barremos todas las filas\n",
    "\n",
    "            for c in range(max_c): # Barremos todas las columnas\n",
    "\n",
    "                # Contamos las celdas vivas en torno a la célula (r,c)\n",
    "                vivas = contador_vecinas_vivas(tablero, r, c, size)\n",
    "\n",
    "                if tablero[r][c] == 1: # la célula (r,c) está viva:\n",
    "\n",
    "                    if vivas in [2,3]: # Sobrevive\n",
    "                        next_generation[r][c] = 1\n",
    "\n",
    "                else: # la célula (r,c) está muerta:\n",
    "\n",
    "                    if vivas == 3: # Nace\n",
    "                        next_generation[r][c] = 1\n",
    "        tablero = next_generation\n",
    "\n",
    "    tablero_GoL = next_generation\n",
    "\n",
    "    return  tablero_GoL "
   ]
  },
  {
   "cell_type": "markdown",
   "id": "8775911e",
   "metadata": {},
   "source": [
    "### 5. Contador Tableros que son idénticos al tablero final deseado:"
   ]
  },
  {
   "cell_type": "code",
   "execution_count": 12,
   "id": "2263f170",
   "metadata": {},
   "outputs": [],
   "source": [
    "def contador_tableros(tablero_final=np.array([[0,0,0],[0,1,0],[0,0,0]], dtype=int), size=(3,3), delta = 1):\n",
    "    \"\"\"\n",
    "    Esta función cuenta el número de tableros iniciales, de tamaño size, que llevan a un mismo tablero final, de tamaño size, tras un número de generaciones delta.\n",
    "\n",
    "    Inputs:\n",
    "    \n",
    "        tablero_final (2d-nparray): configuración del tablero final. Por defecto es el tablero 3x3 (0,0,0,0,1,0,0,0,0)\n",
    "        size (int,int):  dimensiones de los tableros atendiendo al número de (filas, columnas). Por defecto: (3,3)\n",
    "        delta (int): número de pasos entre el tablero inicial y final. (Nº de generaciones)\n",
    "\n",
    "    Outputs:\n",
    "        tablero_final (2d-nparray): configuración del tablero final. Por defecto es el tablero 3x3 (0,0,0,0,1,0,0,0,0)\n",
    "        antecesores (2d-nparray): matriz donde cada fila representa un tablero inicial que lleva al tablero final marcado.\n",
    "        contador (int):  número de tableros iniciales que llevan al tablero final dado.\n",
    "            \n",
    "    \"\"\" \n",
    "    tablero_final = np.array(tablero_final).reshape(size) # Nos aseguramos de que se de como 2d-nparray\n",
    "\n",
    "    tableros = generar_tableros(size) # Generamos los tableros.\n",
    "\n",
    "    # Inicializamos parámetros:\n",
    "    contador = 0\n",
    "    antecesores = []\n",
    "\n",
    "    for tablero_inicial in tableros:\n",
    "        tablero_inicial = np.array(tablero_inicial, dtype=int).reshape(size)\n",
    "\n",
    "        tablero_GoL = np.array(game_of_life(tablero_inicial, size, delta), dtype=int).reshape(size) # Juego de Conway sobre el tablero_inicial generado.\n",
    "        \n",
    "        if np.array_equal(tablero_final, tablero_GoL): # Este tablero inicial generado lleva al tablero final dado.\n",
    "            contador += 1\n",
    "            antecesores.append(tablero_inicial)\n",
    "        \n",
    "    return tablero_final, antecesores, contador"
   ]
  },
  {
   "cell_type": "markdown",
   "id": "d71795e4",
   "metadata": {},
   "source": [
    "### Prueba de la función:"
   ]
  },
  {
   "cell_type": "code",
   "execution_count": 13,
   "id": "5ebbb5f4",
   "metadata": {},
   "outputs": [
    {
     "name": "stdout",
     "output_type": "stream",
     "text": [
      "Hay  22  tableros iniciales que llevan a la configuración final en 1 pasos:\n",
      "\n",
      "[[0 0 0]\n",
      " [0 1 0]\n",
      " [0 0 0]]\n"
     ]
    }
   ],
   "source": [
    "tablero_final = np.array((0,0,0,0,1,0,0,0,0)).reshape(3,3)\n",
    "size = (3,3)\n",
    "delta = 1\n",
    "\n",
    "tablero_final, antecesores, contador = contador_tableros(tablero_final, size, delta)\n",
    "\n",
    "print('Hay ', int(contador), ' tableros iniciales que llevan a la configuración final en',int(delta), 'pasos:\\n')\n",
    "print(tablero_final)\n",
    "\n"
   ]
  }
 ],
 "metadata": {
  "kernelspec": {
   "display_name": "tfg_3.9",
   "language": "python",
   "name": "tfg_3.9"
  },
  "language_info": {
   "codemirror_mode": {
    "name": "ipython",
    "version": 3
   },
   "file_extension": ".py",
   "mimetype": "text/x-python",
   "name": "python",
   "nbconvert_exporter": "python",
   "pygments_lexer": "ipython3",
   "version": "3.9.21"
  }
 },
 "nbformat": 4,
 "nbformat_minor": 5
}
