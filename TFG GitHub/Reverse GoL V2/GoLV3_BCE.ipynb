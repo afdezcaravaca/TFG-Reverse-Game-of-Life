{
 "cells": [
  {
   "cell_type": "markdown",
   "id": "71e578d9",
   "metadata": {},
   "source": [
    "### <ins> Predicciones: Modelo &delta; = 1 </ins>\n",
    "\n",
    "Vamos a usar el modelo asociado a $\\delta$ = 1 para predecir todos los tableros, independientemente del número de pasos que haya entre medias. Para ello, vamos a utilizar este modelo tantas veces como pasos haya entre el tablero inicial y final.\n",
    "\n",
    "No es un modelo nuevo como tal, pues tan solo estoy usando el modelo que mejor resultados me está dando repetidamente para predecir tableros. Sin embargo, como es otro approach, pues voy a considerarlo aparte.\n",
    "\n",
    "**1. Importar librerías, definimos las funciones de as métricas y modelos:**"
   ]
  },
  {
   "cell_type": "code",
   "execution_count": 1,
   "id": "26e85ea6",
   "metadata": {},
   "outputs": [],
   "source": [
    "import numpy as np \n",
    "import matplotlib.pyplot as plt\n",
    "import pandas as pd\n",
    "import os\n",
    "import random\n",
    "import tensorflow as tf\n",
    "from keras.models import load_model\n",
    "from keras import backend as K\n",
    "\n",
    "\n",
    "# 1. Define la semilla\n",
    "SEED = 42  # Según ChatGPT es la mejor\n",
    " \n",
    "# 2. Python built-in random\n",
    "random.seed(SEED)\n",
    "\n",
    "# 3. NumPy\n",
    "np.random.seed(SEED)\n",
    "\n",
    "# 4. TensorFlow\n",
    "tf.random.set_seed(SEED)\n",
    "\n",
    "# (Opcional) Para TensorFlow más determinismo en operaciones GPU:\n",
    "os.environ['TF_DETERMINISTIC_OPS'] = '1'\n",
    "\n",
    "\n",
    "def recall(y_true, y_pred):\n",
    "    y_pred_pos = K.round(K.clip(y_pred, 0, 1))\n",
    "    tp = K.sum(y_true * y_pred_pos)\n",
    "    possible_positives = K.sum(y_true)\n",
    "    return tp / (possible_positives + K.epsilon())\n",
    "\n",
    "def precision(y_true, y_pred):\n",
    "    y_pred_pos = K.round(K.clip(y_pred, 0, 1))\n",
    "    tp = K.sum(y_true * y_pred_pos)\n",
    "    predicted_positives = K.sum(y_pred_pos)\n",
    "    return tp / (predicted_positives + K.epsilon())\n",
    "\n",
    "def f1_score(y_true, y_pred):\n",
    "    prec = precision(y_true, y_pred)\n",
    "    rec = recall(y_true, y_pred)\n",
    "    return 2 * (prec * rec) / (prec + rec + K.epsilon())\n",
    "\n",
    "def specificity(y_true, y_pred):\n",
    "    y_pred_neg = 1 - K.round(K.clip(y_pred, 0, 1))\n",
    "    y_true_neg = 1 - y_true\n",
    "    tn = K.sum(y_true_neg * y_pred_neg)\n",
    "    possible_negatives = K.sum(y_true_neg)\n",
    "    return tn / (possible_negatives + K.epsilon())\n",
    "\n",
    "def hamming_loss(y_true, y_pred):\n",
    "    mismatches = K.not_equal(K.round(K.clip(y_pred, 0, 1)), y_true)\n",
    "    return K.mean(K.cast(mismatches, K.floatx()))"
   ]
  },
  {
   "cell_type": "code",
   "execution_count": 2,
   "id": "04d269d7",
   "metadata": {},
   "outputs": [
    {
     "name": "stdout",
     "output_type": "stream",
     "text": [
      "['../../Datos\\\\test.xlsx', '../../Datos\\\\train.xlsx']\n"
     ]
    }
   ],
   "source": [
    "path = '../../Modelo GoL/Modelos/modelo_delta_1_BCE'\n",
    "modelo1 = load_model(\n",
    "        path, \n",
    "        compile=False, \n",
    "        custom_objects={\n",
    "            'accuracy': tf.keras.metrics.BinaryAccuracy(name='accuracy'),\n",
    "            'recall': recall,\n",
    "            'precision': precision,\n",
    "            'f1_score': f1_score,\n",
    "            'specificity': specificity,\n",
    "            'hamming_loss': hamming_loss})\n",
    "\n",
    "# Buscamos los paths a todos los excels relevantes:\n",
    "path = \"../../Datos\"\n",
    "datos = []\n",
    "for dirnames,_,filenames in os.walk(path):\n",
    "    for filename in filenames:\n",
    "        if filename.endswith('.xlsx'):\n",
    "            datos.append(os.path.join(dirnames,filename))\n",
    "\n",
    "# Cargamos los datos del test:\n",
    "\n",
    "test = pd.read_excel((datos[0]), sheet_name = 'test', header = 0)\n",
    "stops = [f'stop.{i}' for i in range(1,401)]\n",
    "\n",
    "print(datos)"
   ]
  },
  {
   "cell_type": "markdown",
   "id": "f1c7d575",
   "metadata": {},
   "source": [
    "#### 2. **Hacemos las predicciones:**"
   ]
  },
  {
   "cell_type": "code",
   "execution_count": 3,
   "id": "ab8b9269",
   "metadata": {},
   "outputs": [
    {
     "name": "stdout",
     "output_type": "stream",
     "text": [
      "δ = 1\n",
      "312/312 [==============================] - 27s 67ms/step\n",
      "------------------------------------------------------------------\n",
      "δ = 2\n",
      "315/315 [==============================] - 21s 67ms/step\n",
      "315/315 [==============================] - 21s 66ms/step\n",
      "------------------------------------------------------------------\n",
      "δ = 3\n",
      "313/313 [==============================] - 21s 66ms/step\n",
      "313/313 [==============================] - 21s 66ms/step\n",
      "313/313 [==============================] - 21s 67ms/step\n",
      "------------------------------------------------------------------\n",
      "δ = 4\n",
      "307/307 [==============================] - 21s 68ms/step\n",
      "307/307 [==============================] - 20s 67ms/step\n",
      "307/307 [==============================] - 20s 67ms/step\n",
      "307/307 [==============================] - 21s 67ms/step\n",
      "------------------------------------------------------------------\n",
      "δ = 5\n",
      "318/318 [==============================] - 21s 68ms/step\n",
      "318/318 [==============================] - 21s 67ms/step\n",
      "318/318 [==============================] - 21s 67ms/step\n",
      "318/318 [==============================] - 21s 67ms/step\n",
      "318/318 [==============================] - 21s 67ms/step\n",
      "------------------------------------------------------------------\n"
     ]
    }
   ],
   "source": [
    "archivo_excel = \"prediccionesV3.xlsx\"\n",
    "with pd.ExcelWriter(archivo_excel, engine='openpyxl') as writer:\n",
    "    for delta in range(1, 6):\n",
    "        print(f'δ = {delta}')\n",
    "\n",
    "        # Filtro los datos y los preparo\n",
    "        delta_i = test[test['delta'] == delta]\n",
    "        finales_i = delta_i[stops].values.reshape(-1, 20, 20, 1, order='F')\n",
    "\n",
    "        # Aplico las predicciones en cadena\n",
    "        for _ in range(delta):\n",
    "            finales_i, predicciones_iniciales = modelo1.predict(finales_i)\n",
    "\n",
    "        # Reduzco el array final a filas (1 fila = 1 imagen aplanada de 20x20)\n",
    "        pred_init_flat = predicciones_iniciales.reshape(len(predicciones_iniciales), -1).round(0).astype('uint8')\n",
    "        pred_final_flat = finales_i.reshape(len(finales_i), -1).round(0).astype('uint8')\n",
    "\n",
    "        resultados = np.concatenate([pred_final_flat, pred_init_flat], axis=1) # Final + Inicial\n",
    "        columnas = [f\"stop.{i}\" for i in range(400)] + [f\"start.{i}\" for i in range(400)] \n",
    "\n",
    "        # Guardo directamente en Excel\n",
    "        pd.DataFrame(resultados, columns=columnas).to_excel(writer, sheet_name=f\"delta_{delta}\", index=False)\n",
    "        print('------------------------------------------------------------------')"
   ]
  }
 ],
 "metadata": {
  "kernelspec": {
   "display_name": "tfg_3.9",
   "language": "python",
   "name": "tfg_3.9"
  },
  "language_info": {
   "codemirror_mode": {
    "name": "ipython",
    "version": 3
   },
   "file_extension": ".py",
   "mimetype": "text/x-python",
   "name": "python",
   "nbconvert_exporter": "python",
   "pygments_lexer": "ipython3",
   "version": "3.9.21"
  }
 },
 "nbformat": 4,
 "nbformat_minor": 5
}
